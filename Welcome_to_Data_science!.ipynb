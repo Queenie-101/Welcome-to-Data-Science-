{
  "nbformat": 4,
  "nbformat_minor": 0,
  "metadata": {
    "colab": {
      "provenance": [],
      "authorship_tag": "ABX9TyPaX8vy1c9GZyW0RmCJb65F",
      "include_colab_link": true
    },
    "kernelspec": {
      "name": "python3",
      "display_name": "Python 3"
    },
    "language_info": {
      "name": "python"
    }
  },
  "cells": [
    {
      "cell_type": "markdown",
      "metadata": {
        "id": "view-in-github",
        "colab_type": "text"
      },
      "source": [
        "<a href=\"https://colab.research.google.com/github/Queenie-101/Welcome-to-Data-Science-/blob/main/Welcome_to_Data_science!.ipynb\" target=\"_parent\"><img src=\"https://colab.research.google.com/assets/colab-badge.svg\" alt=\"Open In Colab\"/></a>"
      ]
    },
    {
      "cell_type": "code",
      "execution_count": 1,
      "metadata": {
        "id": "TwtrcjQibVKu"
      },
      "outputs": [],
      "source": [
        "#create the data\n",
        "students=[\"Esther\",\"Dami\",\"Michael\",\"Peace\",\"Enny\"]\n",
        "student_marks=[98,96,97,96,94]"
      ]
    },
    {
      "cell_type": "code",
      "source": [
        "#import a sorting library\n",
        "import numpy as np"
      ],
      "metadata": {
        "id": "g-8M0lU6e0Bd"
      },
      "execution_count": 2,
      "outputs": []
    },
    {
      "cell_type": "code",
      "source": [
        "#sort the data\n",
        "student_marks=np.sort(student_marks)\n",
        "print(\"Sorted Marks:\",student_marks)"
      ],
      "metadata": {
        "colab": {
          "base_uri": "https://localhost:8080/"
        },
        "id": "4GYFx-HLfLsI",
        "outputId": "3dee5cf7-a028-4732-ede0-01b8360d8570"
      },
      "execution_count": 3,
      "outputs": [
        {
          "output_type": "stream",
          "name": "stdout",
          "text": [
            "Sorted Marks: [94 96 96 97 98]\n"
          ]
        }
      ]
    }
  ]
}